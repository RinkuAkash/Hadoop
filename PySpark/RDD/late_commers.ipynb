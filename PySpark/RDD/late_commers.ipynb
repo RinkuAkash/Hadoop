{
 "cells": [
  {
   "cell_type": "code",
   "execution_count": 8,
   "metadata": {},
   "outputs": [],
   "source": [
    "# Import pyspark.sql.functions to use columns for comparisions\n",
    "import pyspark.sql.functions as sql_functions"
   ]
  },
  {
   "cell_type": "code",
   "execution_count": 12,
   "metadata": {},
   "outputs": [],
   "source": [
    "user_log_data=sc.textFile(\"hdfs://localhost:54310/user_log_data/user_log_data.csv\").map(lambda x:x.split(\",\"))"
   ]
  },
  {
   "cell_type": "code",
   "execution_count": 13,
   "metadata": {},
   "outputs": [],
   "source": [
    "user_log_dataframe=sqlContext.createDataFrame(data=user_log_data.filter(lambda x:x[0]!='user_name'),\n",
    "                             schema=user_log_data.filter(lambda x:x[0]=='user_name').collect()[0])"
   ]
  },
  {
   "cell_type": "code",
   "execution_count": 14,
   "metadata": {},
   "outputs": [],
   "source": [
    "late_commers=user_log_dataframe.filter(sql_functions.col(\"start_time\") < \"2019-10-24 09:30:00\")"
   ]
  },
  {
   "cell_type": "code",
   "execution_count": 16,
   "metadata": {},
   "outputs": [
    {
     "data": {
      "text/plain": [
       "34"
      ]
     },
     "execution_count": 16,
     "metadata": {},
     "output_type": "execute_result"
    }
   ],
   "source": [
    "late_commers.count()"
   ]
  },
  {
   "cell_type": "code",
   "execution_count": 17,
   "metadata": {},
   "outputs": [
    {
     "name": "stdout",
     "output_type": "stream",
     "text": [
      "+--------------------+\n",
      "|           user_name|\n",
      "+--------------------+\n",
      "|aheteshams007@gma...|\n",
      "|akshaybavalekar10...|\n",
      "|akshaypatwari24@g...|\n",
      "|antonyalexcm@gmai...|\n",
      "|ashutoshrit64@gma...|\n",
      "|ayush.saraf47@gma...|\n",
      "|damodharn21@gmail...|\n",
      "|farooqbassam4@gma...|\n",
      "|jitupatil937@gmai...|\n",
      "|kaleshwetaanil@gm...|\n",
      "|khairnarswapna99@...|\n",
      "|kukadeshilpaa7m95...|\n",
      "|kumud50garg@gmail...|\n",
      "|magadum.iranna@gm...|\n",
      "|mail2anik.officia...|\n",
      "|mr.kundare@gmail.com|\n",
      "|narsimharaj.kasu0...|\n",
      "|prajktasraut16@gm...|\n",
      "|puruissimple@gmai...|\n",
      "|ruchikachile30199...|\n",
      "+--------------------+\n",
      "only showing top 20 rows\n",
      "\n"
     ]
    }
   ],
   "source": [
    "late_commers.select(\"user_name\").show()"
   ]
  },
  {
   "cell_type": "code",
   "execution_count": null,
   "metadata": {},
   "outputs": [],
   "source": []
  }
 ],
 "metadata": {
  "kernelspec": {
   "display_name": "Python 2",
   "language": "python",
   "name": "python2"
  }
 },
 "nbformat": 4,
 "nbformat_minor": 2
}
