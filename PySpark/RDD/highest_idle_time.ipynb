{
 "cells": [
  {
   "cell_type": "code",
   "execution_count": 241,
   "metadata": {},
   "outputs": [],
   "source": [
    "from pyspark.sql.functions import col, lit, avg\n",
    "import datetime"
   ]
  },
  {
   "cell_type": "code",
   "execution_count": 242,
   "metadata": {},
   "outputs": [],
   "source": [
    "user_log_data = sc.textFile(\"hdfs://localhost:54310/user_log_data/user_log_data.csv\").map(lambda x:x.split(\",\"))"
   ]
  },
  {
   "cell_type": "code",
   "execution_count": 243,
   "metadata": {},
   "outputs": [],
   "source": [
    "# creating dataframe from csv file\n",
    "# csv filtered to extract columns and values\n",
    "# in schema index 0 is to collect first row, which is headers\n",
    "user_log_dataframe = sqlContext.createDataFrame(data=user_log_data.filter(lambda x:x[0]!='user_name'),\n",
    "                             schema=user_log_data.filter(lambda x:x[0]=='user_name').collect()[0])"
   ]
  },
  {
   "cell_type": "code",
   "execution_count": 258,
   "metadata": {},
   "outputs": [],
   "source": [
    "# creating new column list to store extracted seconds and username(as primary key) from dataframe \n",
    "new_column_list = []\n",
    "for row in user_log_dataframe.collect():\n",
    "    # converting string type of datetime to datetime\n",
    "    date_time = datetime.datetime.strptime(row['idle_time'], \"%Y-%m-%d %H:%M:%S\")\n",
    "    converted_seconds = date_time.hour * 3600 + date_time.minute *60 + date_time.second\n",
    "    new_column_list.append((row['user_name'], converted_seconds))"
   ]
  },
  {
   "cell_type": "code",
   "execution_count": 246,
   "metadata": {},
   "outputs": [],
   "source": [
    "# creating new column dataframe to join with original dataframe( user_log_dataframe)\n",
    "new_column = sqlContext.createDataFrame(new_column_list, ('username',\"seconds\"))"
   ]
  },
  {
   "cell_type": "code",
   "execution_count": 248,
   "metadata": {},
   "outputs": [],
   "source": [
    "# joining new column to user_log_dataframe using username as primary key\n",
    "joined_dataframe = (user_log_dataframe\n",
    "    .join(new_column, col(\"user_name\")==col(\"username\"),\"leftouter\")\n",
    "    .drop(\"username\")\n",
    "   )"
   ]
  },
  {
   "cell_type": "code",
   "execution_count": 251,
   "metadata": {},
   "outputs": [],
   "source": [
    "# Generating average seconds\n",
    "average_object = joined_dataframe.agg(avg(col(\"seconds\")))"
   ]
  },
  {
   "cell_type": "code",
   "execution_count": 252,
   "metadata": {},
   "outputs": [],
   "source": [
    "# unpacking average value from average_object\n",
    "average_value = average_object.collect()[0][0]"
   ]
  },
  {
   "cell_type": "code",
   "execution_count": 253,
   "metadata": {},
   "outputs": [],
   "source": [
    "# filtering dataframe with highest idle time users\n",
    "highest_idle_time = joined_dataframe.filter(joined_dataframe['seconds'] > average_value)"
   ]
  },
  {
   "cell_type": "code",
   "execution_count": 254,
   "metadata": {},
   "outputs": [
    {
     "data": {
      "text/plain": [
       "27"
      ]
     },
     "execution_count": 254,
     "metadata": {},
     "output_type": "execute_result"
    }
   ],
   "source": [
    "# getting total number of highest idle time users\n",
    "highest_idle_time.count()"
   ]
  },
  {
   "cell_type": "code",
   "execution_count": 257,
   "metadata": {},
   "outputs": [
    {
     "name": "stdout",
     "output_type": "stream",
     "text": [
      "+--------------------+\n",
      "|           user_name|\n",
      "+--------------------+\n",
      "|       nikitapawar17|\n",
      "|“shivnajalisangal...|\n",
      "|gaikwadr576@gmail...|\n",
      "|magadum.iranna@gm...|\n",
      "| dileep.bs@yahoo.com|\n",
      "|puruissimple@gmai...|\n",
      "|hakepratiksha55@g...|\n",
      "|tekina.makin@gmai...|\n",
      "| addyp1911@gmail.com|\n",
      "| blsonalib@gmail.com|\n",
      "|20150773@dbatu.ac.in|\n",
      "|farooqbassam4@gma...|\n",
      "|ruchikachile30199...|\n",
      "|polelaxman001@gma...|\n",
      "|ayush.saraf47@gma...|\n",
      "|surajpj7852@gmail...|\n",
      "|     you@example.com|\n",
      "|vishnu23kumar@gma...|\n",
      "|  sahil24c@gmail.com|\n",
      "|sargampandey27oct...|\n",
      "+--------------------+\n",
      "only showing top 20 rows\n",
      "\n"
     ]
    }
   ],
   "source": [
    "# printing top 20 users with highest idle time\n",
    "highest_idle_time.select(\"user_name\").show()"
   ]
  }
 ],
 "metadata": {
  "kernelspec": {
   "display_name": "Python 2",
   "language": "python",
   "name": "python2"
  },
  "language_info": {
   "codemirror_mode": {
    "name": "ipython",
    "version": 2
   },
   "file_extension": ".py",
   "mimetype": "text/x-python",
   "name": "python",
   "nbconvert_exporter": "python",
   "pygments_lexer": "ipython2",
   "version": "2.7.17"
  }
 },
 "nbformat": 4,
 "nbformat_minor": 2
}
