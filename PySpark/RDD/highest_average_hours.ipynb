{
 "cells": [
  {
   "cell_type": "code",
   "execution_count": 1,
   "metadata": {},
   "outputs": [],
   "source": [
    "from pyspark.sql.functions import col, lit, avg\n",
    "import datetime"
   ]
  },
  {
   "cell_type": "code",
   "execution_count": 2,
   "metadata": {},
   "outputs": [],
   "source": [
    "user_log_data = sc.textFile(\"hdfs://localhost:54310/user_log_data/user_log_data.csv\").map(lambda x:x.split(\",\"))"
   ]
  },
  {
   "cell_type": "code",
   "execution_count": 3,
   "metadata": {},
   "outputs": [],
   "source": [
    "# creating dataframe from csv file\n",
    "# csv filtered to extract columns and values\n",
    "# in schema index 0 is to collect first row, which is headers\n",
    "user_log_dataframe = sqlContext.createDataFrame(data=user_log_data.filter(lambda x:x[0]!='user_name'),\n",
    "                             schema=user_log_data.filter(lambda x:x[0]=='user_name').collect()[0])"
   ]
  },
  {
   "cell_type": "code",
   "execution_count": 12,
   "metadata": {},
   "outputs": [],
   "source": [
    "# creating new column list to store extracted seconds and username(as primary key) from dataframe \n",
    "new_column_list = []\n",
    "for row in user_log_dataframe.collect():\n",
    "    # converting string type of datetime to datetime\n",
    "    date_time = datetime.datetime.strptime(row['working_hours'], \"%Y-%m-%d %H:%M:%S\")\n",
    "    converted_seconds = date_time.hour * 3600 + date_time.minute *60 + date_time.second\n",
    "    new_column_list.append((row['user_name'], converted_seconds))"
   ]
  },
  {
   "cell_type": "code",
   "execution_count": 13,
   "metadata": {},
   "outputs": [],
   "source": [
    "# creating new column dataframe to join with original dataframe( user_log_dataframe)\n",
    "new_column = sqlContext.createDataFrame(new_column_list, ('username',\"seconds\"))"
   ]
  },
  {
   "cell_type": "code",
   "execution_count": 14,
   "metadata": {},
   "outputs": [],
   "source": [
    "# joining new column to user_log_dataframe using username as primary key\n",
    "joined_dataframe = (user_log_dataframe\n",
    "    .join(new_column, col(\"user_name\")==col(\"username\"),\"leftouter\")\n",
    "    .drop(\"username\")\n",
    "   )"
   ]
  },
  {
   "cell_type": "code",
   "execution_count": 15,
   "metadata": {},
   "outputs": [],
   "source": [
    "# Generating average seconds\n",
    "average_object = joined_dataframe.agg(avg(col(\"seconds\")))"
   ]
  },
  {
   "cell_type": "code",
   "execution_count": 16,
   "metadata": {},
   "outputs": [],
   "source": [
    "# unpacking average value from average_object\n",
    "average_value = average_object.collect()[0][0]"
   ]
  },
  {
   "cell_type": "code",
   "execution_count": 25,
   "metadata": {},
   "outputs": [],
   "source": [
    "# filtering dataframe with highest average hours users\n",
    "highest_average_hours = joined_dataframe.filter(joined_dataframe['seconds'] > average_value)"
   ]
  },
  {
   "cell_type": "code",
   "execution_count": 24,
   "metadata": {},
   "outputs": [
    {
     "data": {
      "text/plain": [
       "57"
      ]
     },
     "execution_count": 24,
     "metadata": {},
     "output_type": "execute_result"
    }
   ],
   "source": [
    "# getting total number of highest average hours users\n",
    "highest_average_hours.count()"
   ]
  },
  {
   "cell_type": "code",
   "execution_count": 23,
   "metadata": {},
   "outputs": [
    {
     "name": "stdout",
     "output_type": "stream",
     "text": [
      "+--------------------+\n",
      "|           user_name|\n",
      "+--------------------+\n",
      "|ashutoshrit64@gma...|\n",
      "|giridhardandikwar...|\n",
      "|salinabodale73@gm...|\n",
      "|indrajeetgajbhiye...|\n",
      "|khairnarswapna99@...|\n",
      "|aman.raj251@gmail...|\n",
      "|Krushnanikam26@gm...|\n",
      "|magadum.iranna@gm...|\n",
      "|puruissimple@gmai...|\n",
      "|prajktasraut16@gm...|\n",
      "|samruddhichitnis0...|\n",
      "|surajwarbhuvan192...|\n",
      "| grmule018@gmail.com|\n",
      "|  shelkeva@gmail.com|\n",
      "|akshaypatwari24@g...|\n",
      "|rohitsarate1027@g...|\n",
      "|sharlawar77@gmail...|\n",
      "|kaleshwetaanil@gm...|\n",
      "|rahilstar11@gmail...|\n",
      "|antonyalexcm@gmai...|\n",
      "+--------------------+\n",
      "only showing top 20 rows\n",
      "\n"
     ]
    }
   ],
   "source": [
    "# printing top 20 users with highest average hours\n",
    "highest_average_hours.select(\"user_name\").show()"
   ]
  },
  {
   "cell_type": "code",
   "execution_count": null,
   "metadata": {},
   "outputs": [],
   "source": []
  }
 ],
 "metadata": {
  "kernelspec": {
   "display_name": "Python 2",
   "language": "python",
   "name": "python2"
  },
  "language_info": {
   "codemirror_mode": {
    "name": "ipython",
    "version": 2
   },
   "file_extension": ".py",
   "mimetype": "text/x-python",
   "name": "python",
   "nbconvert_exporter": "python",
   "pygments_lexer": "ipython2",
   "version": "2.7.17"
  }
 },
 "nbformat": 4,
 "nbformat_minor": 2
}
