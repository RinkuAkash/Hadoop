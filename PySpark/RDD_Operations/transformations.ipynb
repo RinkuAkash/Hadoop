{
 "cells": [
  {
   "cell_type": "markdown",
   "metadata": {},
   "source": [
    "# Narrow Transformation"
   ]
  },
  {
   "cell_type": "markdown",
   "metadata": {},
   "source": [
    "# Map"
   ]
  },
  {
   "cell_type": "code",
   "execution_count": 1,
   "metadata": {},
   "outputs": [],
   "source": [
    "baby_names = sc.textFile(\"baby_names.csv\")"
   ]
  },
  {
   "cell_type": "code",
   "execution_count": 2,
   "metadata": {},
   "outputs": [],
   "source": [
    "rows = baby_names.map(lambda line: line.split(','))"
   ]
  },
  {
   "cell_type": "code",
   "execution_count": 3,
   "metadata": {},
   "outputs": [
    {
     "data": {
      "text/plain": [
       "[['State', 'Gender', 'Year', 'Name', 'Frequency'],\n",
       " ['CA', 'female', '2012', 'Sophia', '3643'],\n",
       " ['CA', 'female', '2011', 'Sophia', '3566'],\n",
       " ['CA', 'female', '2013', 'Sophia', '3465'],\n",
       " ['CA', 'female', '2010', 'Isabella', '3366'],\n",
       " ['CA', 'female', '2010', 'Sophia', '3360'],\n",
       " ['CA', 'male', '2010', 'Jacob', '3351'],\n",
       " ['CA', 'female', '2014', 'Sophia', '3179'],\n",
       " ['CA', 'male', '2011', 'Jacob', '3171'],\n",
       " ['CA', 'male', '2010', 'Daniel', '3133'],\n",
       " ['CA', 'female', '2012', 'Isabella', '3109'],\n",
       " ['CA', 'female', '2011', 'Isabella', '3060'],\n",
       " ['CA', 'male', '2012', 'Jacob', '2978'],\n",
       " ['CA', 'female', '2015', 'Sophia', '2954'],\n",
       " ['CA', 'male', '2011', 'Daniel', '2907'],\n",
       " ['CA', 'male', '2013', 'Jacob', '2887'],\n",
       " ['CA', 'male', '2012', 'Jayden', '2868'],\n",
       " ['CA', 'female', '2015', 'Mia', '2861'],\n",
       " ['CA', 'male', '2010', 'Anthony', '2860'],\n",
       " ['CA', 'female', '2016', 'Mia', '2794'],\n",
       " ['CA', 'female', '2013', 'Isabella', '2793']]"
      ]
     },
     "execution_count": 3,
     "metadata": {},
     "output_type": "execute_result"
    }
   ],
   "source": [
    "rows.collect()"
   ]
  },
  {
   "cell_type": "code",
   "execution_count": 4,
   "metadata": {},
   "outputs": [
    {
     "name": "stdout",
     "output_type": "stream",
     "text": [
      "Name\n",
      "Sophia\n",
      "Sophia\n",
      "Sophia\n",
      "Isabella\n",
      "Sophia\n",
      "Jacob\n",
      "Sophia\n",
      "Jacob\n",
      "Daniel\n",
      "Isabella\n",
      "Isabella\n",
      "Jacob\n",
      "Sophia\n",
      "Daniel\n",
      "Jacob\n",
      "Jayden\n",
      "Mia\n",
      "Anthony\n",
      "Mia\n",
      "Isabella\n"
     ]
    }
   ],
   "source": [
    "for row in rows.take(rows.count()):\n",
    "    print(row[3])"
   ]
  },
  {
   "cell_type": "markdown",
   "metadata": {},
   "source": [
    "# Flat Map"
   ]
  },
  {
   "cell_type": "code",
   "execution_count": 6,
   "metadata": {},
   "outputs": [
    {
     "data": {
      "text/plain": [
       "[1, 1, 1, 2, 2, 2, 3, 3, 3]"
      ]
     },
     "execution_count": 6,
     "metadata": {},
     "output_type": "execute_result"
    }
   ],
   "source": [
    "sc.parallelize([1,2,3]).flatMap(lambda item: [item, item, item]).collect()"
   ]
  },
  {
   "cell_type": "code",
   "execution_count": 7,
   "metadata": {},
   "outputs": [
    {
     "data": {
      "text/plain": [
       "[[1, 1, 1], [2, 2, 2], [3, 3, 3]]"
      ]
     },
     "execution_count": 7,
     "metadata": {},
     "output_type": "execute_result"
    }
   ],
   "source": [
    "# while map assigns separately\n",
    "sc.parallelize([1,2,3]).map(lambda item: [item, item, item]).collect()"
   ]
  },
  {
   "cell_type": "markdown",
   "metadata": {},
   "source": [
    "# Filter"
   ]
  },
  {
   "cell_type": "code",
   "execution_count": 8,
   "metadata": {},
   "outputs": [
    {
     "data": {
      "text/plain": [
       "[['CA', 'male', '2010', 'Jacob', '3351'],\n",
       " ['CA', 'male', '2011', 'Jacob', '3171'],\n",
       " ['CA', 'male', '2010', 'Daniel', '3133'],\n",
       " ['CA', 'male', '2012', 'Jacob', '2978'],\n",
       " ['CA', 'male', '2011', 'Daniel', '2907'],\n",
       " ['CA', 'male', '2013', 'Jacob', '2887'],\n",
       " ['CA', 'male', '2012', 'Jayden', '2868'],\n",
       " ['CA', 'male', '2010', 'Anthony', '2860']]"
      ]
     },
     "execution_count": 8,
     "metadata": {},
     "output_type": "execute_result"
    }
   ],
   "source": [
    "rows.filter(lambda row: \"male\" in row).collect()"
   ]
  },
  {
   "cell_type": "markdown",
   "metadata": {},
   "source": [
    "# Union"
   ]
  },
  {
   "cell_type": "code",
   "execution_count": 10,
   "metadata": {},
   "outputs": [],
   "source": [
    "rdd1 = sc.parallelize(((1, 'jan', 2016), (3, 'nov', 2014), (16, 'feb', 2014)))\n",
    "rdd2 = sc.parallelize(((5, 'dec', 2014), (17, 'sep', 2015)))\n",
    "rdd3 = sc.parallelize(((6, 'dec', 2011), (16, 'may', 2015)))"
   ]
  },
  {
   "cell_type": "code",
   "execution_count": 12,
   "metadata": {},
   "outputs": [],
   "source": [
    "rddUnion = rdd1.union(rdd2).union(rdd3)"
   ]
  },
  {
   "cell_type": "code",
   "execution_count": 17,
   "metadata": {},
   "outputs": [
    {
     "data": {
      "text/plain": [
       "[(1, 'jan', 2016),\n",
       " (3, 'nov', 2014),\n",
       " (16, 'feb', 2014),\n",
       " (5, 'dec', 2014),\n",
       " (17, 'sep', 2015),\n",
       " (6, 'dec', 2011),\n",
       " (16, 'may', 2015)]"
      ]
     },
     "execution_count": 17,
     "metadata": {},
     "output_type": "execute_result"
    }
   ],
   "source": [
    "rddUnion.collect()"
   ]
  },
  {
   "cell_type": "markdown",
   "metadata": {},
   "source": [
    "# Wide Transformation"
   ]
  },
  {
   "cell_type": "markdown",
   "metadata": {},
   "source": [
    "# Intersection"
   ]
  },
  {
   "cell_type": "code",
   "execution_count": 18,
   "metadata": {},
   "outputs": [],
   "source": [
    "rdd1 = sc.parallelize(range(1, 10))\n",
    "rdd2 = sc.parallelize(range(5, 15))"
   ]
  },
  {
   "cell_type": "code",
   "execution_count": 19,
   "metadata": {},
   "outputs": [
    {
     "data": {
      "text/plain": [
       "[6, 8, 5, 7, 9]"
      ]
     },
     "execution_count": 19,
     "metadata": {},
     "output_type": "execute_result"
    }
   ],
   "source": [
    "rdd1.intersection(rdd2).collect()"
   ]
  },
  {
   "cell_type": "markdown",
   "metadata": {},
   "source": [
    "# Distinct"
   ]
  },
  {
   "cell_type": "code",
   "execution_count": 20,
   "metadata": {},
   "outputs": [],
   "source": [
    "uniques = sc.parallelize(range(1, 9))\n",
    "duplicates = sc.parallelize(range(5, 15))"
   ]
  },
  {
   "cell_type": "code",
   "execution_count": 21,
   "metadata": {},
   "outputs": [],
   "source": [
    "mixedSet = uniques.union(duplicates)"
   ]
  },
  {
   "cell_type": "code",
   "execution_count": 22,
   "metadata": {},
   "outputs": [
    {
     "data": {
      "text/plain": [
       "[2, 4, 6, 8, 10, 12, 14, 1, 3, 5, 7, 9, 11, 13]"
      ]
     },
     "execution_count": 22,
     "metadata": {},
     "output_type": "execute_result"
    }
   ],
   "source": [
    "mixedSet.distinct().collect()"
   ]
  },
  {
   "cell_type": "markdown",
   "metadata": {},
   "source": [
    "# groupByKey"
   ]
  },
  {
   "cell_type": "code",
   "execution_count": 23,
   "metadata": {},
   "outputs": [],
   "source": [
    "namesToYear = rows.map(lambda line: (line[3], line[2])).groupByKey()"
   ]
  },
  {
   "cell_type": "code",
   "execution_count": 25,
   "metadata": {},
   "outputs": [
    {
     "data": {
      "text/plain": [
       "[{'Name': ['Year']},\n",
       " {'Sophia': ['2012', '2011', '2013', '2010', '2014', '2015']},\n",
       " {'Isabella': ['2010', '2012', '2011', '2013']},\n",
       " {'Jacob': ['2010', '2011', '2012', '2013']},\n",
       " {'Daniel': ['2010', '2011']},\n",
       " {'Jayden': ['2012']},\n",
       " {'Mia': ['2015', '2016']},\n",
       " {'Anthony': ['2010']}]"
      ]
     },
     "execution_count": 25,
     "metadata": {},
     "output_type": "execute_result"
    }
   ],
   "source": [
    "namesToYear.map(lambda item: {item[0]: list(item[1])}).collect()"
   ]
  },
  {
   "cell_type": "markdown",
   "metadata": {},
   "source": [
    "# reduceByKey"
   ]
  },
  {
   "cell_type": "code",
   "execution_count": 26,
   "metadata": {},
   "outputs": [],
   "source": [
    "filtered_rows = baby_names.filter(lambda line: 'Frequency' not in line).map(lambda line: line.split(','))"
   ]
  },
  {
   "cell_type": "code",
   "execution_count": 27,
   "metadata": {},
   "outputs": [
    {
     "data": {
      "text/plain": [
       "[('Sophia', 20167),\n",
       " ('Isabella', 12328),\n",
       " ('Jacob', 12387),\n",
       " ('Daniel', 6040),\n",
       " ('Jayden', 2868),\n",
       " ('Mia', 5655),\n",
       " ('Anthony', 2860)]"
      ]
     },
     "execution_count": 27,
     "metadata": {},
     "output_type": "execute_result"
    }
   ],
   "source": [
    "filtered_rows.map(lambda item: (item[3], int(item[4]))).reduceByKey(lambda v1, v2: v1+v2).collect()"
   ]
  },
  {
   "cell_type": "markdown",
   "metadata": {},
   "source": [
    "# aggregateByKey"
   ]
  },
  {
   "cell_type": "code",
   "execution_count": 30,
   "metadata": {},
   "outputs": [],
   "source": [
    "filtered_rows = baby_names.filter(lambda line: 'Frequency' not in line).map(lambda line: line.split(','))"
   ]
  },
  {
   "cell_type": "code",
   "execution_count": 31,
   "metadata": {},
   "outputs": [],
   "source": [
    "filtered_rows = filtered_rows.map(lambda item: (item[3], int(item[4])))"
   ]
  },
  {
   "cell_type": "code",
   "execution_count": 32,
   "metadata": {},
   "outputs": [
    {
     "data": {
      "text/plain": [
       "[('Sophia', 20167),\n",
       " ('Isabella', 12328),\n",
       " ('Jacob', 12387),\n",
       " ('Daniel', 6040),\n",
       " ('Jayden', 2868),\n",
       " ('Mia', 5655),\n",
       " ('Anthony', 2860)]"
      ]
     },
     "execution_count": 32,
     "metadata": {},
     "output_type": "execute_result"
    }
   ],
   "source": [
    "filtered_rows.aggregateByKey(0, lambda k,v: int(v)+k, lambda v,k: k+v).collect()"
   ]
  },
  {
   "cell_type": "markdown",
   "metadata": {},
   "source": [
    "# sortByKey"
   ]
  },
  {
   "cell_type": "code",
   "execution_count": 33,
   "metadata": {},
   "outputs": [],
   "source": [
    "filtered_rows = baby_names.filter(lambda line: 'Year' not in line).map(lambda line: line.split(','))"
   ]
  },
  {
   "cell_type": "code",
   "execution_count": 34,
   "metadata": {},
   "outputs": [],
   "source": [
    "filtered_rows = filtered_rows.map(lambda item: (item[3], int(item[2])))"
   ]
  },
  {
   "cell_type": "code",
   "execution_count": 35,
   "metadata": {},
   "outputs": [
    {
     "data": {
      "text/plain": [
       "[('Anthony', 2010),\n",
       " ('Daniel', 2010),\n",
       " ('Daniel', 2011),\n",
       " ('Isabella', 2010),\n",
       " ('Isabella', 2012),\n",
       " ('Isabella', 2011),\n",
       " ('Isabella', 2013),\n",
       " ('Jacob', 2010),\n",
       " ('Jacob', 2011),\n",
       " ('Jacob', 2012),\n",
       " ('Jacob', 2013),\n",
       " ('Jayden', 2012),\n",
       " ('Mia', 2015),\n",
       " ('Mia', 2016),\n",
       " ('Sophia', 2012),\n",
       " ('Sophia', 2011),\n",
       " ('Sophia', 2013),\n",
       " ('Sophia', 2010),\n",
       " ('Sophia', 2014),\n",
       " ('Sophia', 2015)]"
      ]
     },
     "execution_count": 35,
     "metadata": {},
     "output_type": "execute_result"
    }
   ],
   "source": [
    "filtered_rows.sortByKey().collect()"
   ]
  },
  {
   "cell_type": "code",
   "execution_count": 36,
   "metadata": {},
   "outputs": [
    {
     "data": {
      "text/plain": [
       "[('Sophia', 2012),\n",
       " ('Sophia', 2011),\n",
       " ('Sophia', 2013),\n",
       " ('Sophia', 2010),\n",
       " ('Sophia', 2014),\n",
       " ('Sophia', 2015),\n",
       " ('Mia', 2015),\n",
       " ('Mia', 2016),\n",
       " ('Jayden', 2012),\n",
       " ('Jacob', 2010),\n",
       " ('Jacob', 2011),\n",
       " ('Jacob', 2012),\n",
       " ('Jacob', 2013),\n",
       " ('Isabella', 2010),\n",
       " ('Isabella', 2012),\n",
       " ('Isabella', 2011),\n",
       " ('Isabella', 2013),\n",
       " ('Daniel', 2010),\n",
       " ('Daniel', 2011),\n",
       " ('Anthony', 2010)]"
      ]
     },
     "execution_count": 36,
     "metadata": {},
     "output_type": "execute_result"
    }
   ],
   "source": [
    "filtered_rows.sortByKey(False).collect()"
   ]
  },
  {
   "cell_type": "markdown",
   "metadata": {},
   "source": [
    "# Join"
   ]
  },
  {
   "cell_type": "code",
   "execution_count": 37,
   "metadata": {},
   "outputs": [],
   "source": [
    " names1 = sc.parallelize((\"abe\", \"abby\", \"apple\")).map(lambda a: (a, 1))"
   ]
  },
  {
   "cell_type": "code",
   "execution_count": 38,
   "metadata": {},
   "outputs": [],
   "source": [
    "names2 = sc.parallelize((\"apple\", \"beatty\", \"beatrice\")).map(lambda a: (a, 1))"
   ]
  },
  {
   "cell_type": "code",
   "execution_count": 39,
   "metadata": {},
   "outputs": [
    {
     "data": {
      "text/plain": [
       "[('apple', (1, 1))]"
      ]
     },
     "execution_count": 39,
     "metadata": {},
     "output_type": "execute_result"
    }
   ],
   "source": [
    "names1.join(names2).collect()"
   ]
  },
  {
   "cell_type": "code",
   "execution_count": 40,
   "metadata": {},
   "outputs": [
    {
     "data": {
      "text/plain": [
       "[('abby', (1, None)), ('abe', (1, None)), ('apple', (1, 1))]"
      ]
     },
     "execution_count": 40,
     "metadata": {},
     "output_type": "execute_result"
    }
   ],
   "source": [
    "names1.leftOuterJoin(names2).collect()"
   ]
  },
  {
   "cell_type": "code",
   "execution_count": 41,
   "metadata": {},
   "outputs": [
    {
     "data": {
      "text/plain": [
       "[('apple', (1, 1)), ('beatty', (None, 1)), ('beatrice', (None, 1))]"
      ]
     },
     "execution_count": 41,
     "metadata": {},
     "output_type": "execute_result"
    }
   ],
   "source": [
    "names1.rightOuterJoin(names2).collect()"
   ]
  },
  {
   "cell_type": "code",
   "execution_count": null,
   "metadata": {},
   "outputs": [],
   "source": []
  }
 ],
 "metadata": {
  "kernelspec": {
   "display_name": "Python 3",
   "language": "python",
   "name": "python3"
  },
  "language_info": {
   "codemirror_mode": {
    "name": "ipython",
    "version": 3
   },
   "file_extension": ".py",
   "mimetype": "text/x-python",
   "name": "python",
   "nbconvert_exporter": "python",
   "pygments_lexer": "ipython3",
   "version": "3.6.9"
  }
 },
 "nbformat": 4,
 "nbformat_minor": 2
}
