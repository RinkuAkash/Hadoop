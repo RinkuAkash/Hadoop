{
 "cells": [
  {
   "cell_type": "markdown",
   "metadata": {},
   "source": [
    "# Spark Streaming ( Batch processing)"
   ]
  },
  {
   "cell_type": "code",
   "execution_count": 1,
   "metadata": {},
   "outputs": [],
   "source": [
    "# importing required libraries\n",
    "import time\n",
    "from pyspark import SparkContext\n",
    "from pyspark.streaming import StreamingContext\n",
    "\n",
    "import re\n",
    "from textblob import TextBlob"
   ]
  },
  {
   "cell_type": "code",
   "execution_count": 2,
   "metadata": {},
   "outputs": [],
   "source": [
    "# clean_tweet to remove unnecessary thing is text \n",
    "def clean_tweet(tweet):\n",
    "    return ' '.join(re.sub(\"(@[A-Za-z0-9]+)|([^0-9A-Za-z \\t])|(\\w+:\\/\\/\\S+)\", \" \", str(tweet)).split())"
   ]
  },
  {
   "cell_type": "code",
   "execution_count": 3,
   "metadata": {},
   "outputs": [],
   "source": [
    "# Getting sentiment polarity of tweet using textblob\n",
    "def analyze_sentiment_polarity(tweet):\n",
    "    analysis = TextBlob(clean_tweet(tweet))\n",
    "    if analysis.sentiment.polarity > 0:\n",
    "        return 'POSITIVE'\n",
    "    elif analysis.sentiment.polarity == 0:\n",
    "        return 'NEUTRAL'\n",
    "    else:\n",
    "        return 'NEGATIVE'"
   ]
  },
  {
   "cell_type": "code",
   "execution_count": 4,
   "metadata": {},
   "outputs": [],
   "source": [
    "# count number of sentiments for each batch\n",
    "def countSentiment(new_values, last_sum):\n",
    "    return sum(new_values) + (last_sum or 0)"
   ]
  },
  {
   "cell_type": "code",
   "execution_count": 5,
   "metadata": {},
   "outputs": [],
   "source": [
    "# stopping previous spark sessions\n",
    "sc.stop()"
   ]
  },
  {
   "cell_type": "code",
   "execution_count": 6,
   "metadata": {},
   "outputs": [],
   "source": [
    "# Creating new spark session\n",
    "sc = SparkContext(master=\"local[4]\", appName=\"Batch Processing\")"
   ]
  },
  {
   "cell_type": "code",
   "execution_count": 7,
   "metadata": {},
   "outputs": [],
   "source": [
    "# Creating new streaming context with 10 batches\n",
    "ssc = StreamingContext(sc, 10)"
   ]
  },
  {
   "cell_type": "code",
   "execution_count": 8,
   "metadata": {},
   "outputs": [],
   "source": [
    "# checkpoint\n",
    "ssc.checkpoint(\"checkpoint\")"
   ]
  },
  {
   "cell_type": "code",
   "execution_count": 9,
   "metadata": {},
   "outputs": [],
   "source": [
    "IP = \"localhost\"\n",
    "Port = 9000"
   ]
  },
  {
   "cell_type": "code",
   "execution_count": 10,
   "metadata": {},
   "outputs": [],
   "source": [
    "# streaming tweets from IP address\n",
    "tweets = ssc.socketTextStream(IP,Port)"
   ]
  },
  {
   "cell_type": "code",
   "execution_count": 11,
   "metadata": {},
   "outputs": [],
   "source": [
    "# initializing sentiments with 0\n",
    "initialStateRDD = sc.parallelize([(u'POSITIVE', 0), (u'NEGATIVE', 0), (u'NEUTRAL', 0)])"
   ]
  },
  {
   "cell_type": "code",
   "execution_count": null,
   "metadata": {},
   "outputs": [],
   "source": [
    "# mapping Dstream with modified rdd that contains sentiment and updating each key to count sentiments\n",
    "sentiment = tweets.map(lambda text: (analyze_sentiment_polarity(text), 1)).updateStateByKey(countSentiment, initialRDD=initialStateRDD)\n",
    "sentiment.pprint()"
   ]
  },
  {
   "cell_type": "code",
   "execution_count": null,
   "metadata": {
    "scrolled": false
   },
   "outputs": [
    {
     "name": "stdout",
     "output_type": "stream",
     "text": [
      "-------------------------------------------\n",
      "Time: 2020-05-06 17:54:50\n",
      "-------------------------------------------\n",
      "('POSITIVE', 0)\n",
      "('NEGATIVE', 0)\n",
      "('NEUTRAL', 3)\n",
      "\n",
      "-------------------------------------------\n",
      "Time: 2020-05-06 17:55:00\n",
      "-------------------------------------------\n",
      "('POSITIVE', 2)\n",
      "('NEGATIVE', 2)\n",
      "('NEUTRAL', 14)\n",
      "\n",
      "-------------------------------------------\n",
      "Time: 2020-05-06 17:55:10\n",
      "-------------------------------------------\n",
      "('POSITIVE', 5)\n",
      "('NEGATIVE', 2)\n",
      "('NEUTRAL', 16)\n",
      "\n",
      "-------------------------------------------\n",
      "Time: 2020-05-06 17:55:20\n",
      "-------------------------------------------\n",
      "('POSITIVE', 6)\n",
      "('NEGATIVE', 5)\n",
      "('NEUTRAL', 19)\n",
      "\n",
      "-------------------------------------------\n",
      "Time: 2020-05-06 17:55:30\n",
      "-------------------------------------------\n",
      "('POSITIVE', 8)\n",
      "('NEGATIVE', 6)\n",
      "('NEUTRAL', 22)\n",
      "\n",
      "-------------------------------------------\n",
      "Time: 2020-05-06 17:55:40\n",
      "-------------------------------------------\n",
      "('POSITIVE', 9)\n",
      "('NEGATIVE', 7)\n",
      "('NEUTRAL', 23)\n",
      "\n",
      "-------------------------------------------\n",
      "Time: 2020-05-06 17:55:50\n",
      "-------------------------------------------\n",
      "('POSITIVE', 10)\n",
      "('NEGATIVE', 7)\n",
      "('NEUTRAL', 26)\n",
      "\n",
      "-------------------------------------------\n",
      "Time: 2020-05-06 17:56:00\n",
      "-------------------------------------------\n",
      "('POSITIVE', 10)\n",
      "('NEGATIVE', 11)\n",
      "('NEUTRAL', 26)\n",
      "\n",
      "-------------------------------------------\n",
      "Time: 2020-05-06 17:56:10\n",
      "-------------------------------------------\n",
      "('POSITIVE', 15)\n",
      "('NEGATIVE', 14)\n",
      "('NEUTRAL', 34)\n",
      "\n",
      "-------------------------------------------\n",
      "Time: 2020-05-06 17:56:20\n",
      "-------------------------------------------\n",
      "('POSITIVE', 16)\n",
      "('NEGATIVE', 15)\n",
      "('NEUTRAL', 39)\n",
      "\n",
      "-------------------------------------------\n",
      "Time: 2020-05-06 17:56:30\n",
      "-------------------------------------------\n",
      "('POSITIVE', 19)\n",
      "('NEGATIVE', 18)\n",
      "('NEUTRAL', 40)\n",
      "\n"
     ]
    }
   ],
   "source": [
    "# starting streaming session\n",
    "ssc.start()\n",
    "time.sleep(5)\n",
    "\n",
    "ssc.awaitTermination()"
   ]
  },
  {
   "cell_type": "code",
   "execution_count": null,
   "metadata": {},
   "outputs": [],
   "source": []
  },
  {
   "cell_type": "code",
   "execution_count": null,
   "metadata": {},
   "outputs": [],
   "source": []
  }
 ],
 "metadata": {
  "kernelspec": {
   "display_name": "Python 3",
   "language": "python",
   "name": "python3"
  },
  "language_info": {
   "codemirror_mode": {
    "name": "ipython",
    "version": 3
   },
   "file_extension": ".py",
   "mimetype": "text/x-python",
   "name": "python",
   "nbconvert_exporter": "python",
   "pygments_lexer": "ipython3",
   "version": "3.6.9"
  }
 },
 "nbformat": 4,
 "nbformat_minor": 2
}
