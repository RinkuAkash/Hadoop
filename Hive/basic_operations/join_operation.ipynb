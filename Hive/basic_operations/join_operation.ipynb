{
 "cells": [
  {
   "cell_type": "markdown",
   "metadata": {},
   "source": [
    "# Hive JOIN operation"
   ]
  },
  {
   "cell_type": "code",
   "execution_count": 1,
   "metadata": {},
   "outputs": [],
   "source": [
    "sql_context = SparkSession.builder.appName(\"HiveJoinOperation\").enableHiveSupport().getOrCreate()"
   ]
  },
  {
   "cell_type": "markdown",
   "metadata": {},
   "source": [
    "# First Table"
   ]
  },
  {
   "cell_type": "code",
   "execution_count": 2,
   "metadata": {},
   "outputs": [
    {
     "name": "stdout",
     "output_type": "stream",
     "text": [
      "+---+------+---+\n",
      "| id|groups|age|\n",
      "+---+------+---+\n",
      "|  0|     A| 36|\n",
      "|  1|     A| 55|\n",
      "|  2|     A| 61|\n",
      "|  3|     O| 29|\n",
      "|  4|     O| 34|\n",
      "|  5|     O| 42|\n",
      "|  6|    AB| 53|\n",
      "|  7|     B| 41|\n",
      "|  8|     A| 47|\n",
      "|  9|     A| 31|\n",
      "| 10|     A| 47|\n",
      "| 11|     O| 40|\n",
      "| 12|     O| 41|\n",
      "| 13|     O| 46|\n",
      "| 14|    AB| 51|\n",
      "| 15|     B| 57|\n",
      "| 16|     A| 33|\n",
      "| 17|     A| 41|\n",
      "| 18|     A| 46|\n",
      "| 19|     O| 32|\n",
      "+---+------+---+\n",
      "only showing top 20 rows\n",
      "\n"
     ]
    }
   ],
   "source": [
    "sql_context.sql(\"select * from employee_details\").show()"
   ]
  },
  {
   "cell_type": "markdown",
   "metadata": {},
   "source": [
    "# Second Table"
   ]
  },
  {
   "cell_type": "code",
   "execution_count": 3,
   "metadata": {},
   "outputs": [
    {
     "name": "stdout",
     "output_type": "stream",
     "text": [
      "+---+------+\n",
      "| id|salary|\n",
      "+---+------+\n",
      "|  0|  2297|\n",
      "|  1|  1134|\n",
      "|  2|  4969|\n",
      "|  3|   902|\n",
      "|  4|  3574|\n",
      "|  5|  2761|\n",
      "|  6|  1484|\n",
      "|  7|  3809|\n",
      "|  8|  2065|\n",
      "|  9|  1020|\n",
      "| 10|  1950|\n",
      "| 11|  4387|\n",
      "| 12|  1830|\n",
      "| 13|  2182|\n",
      "| 14|  3460|\n",
      "| 15|   662|\n",
      "| 16|  1134|\n",
      "| 17|  1020|\n",
      "| 18|   779|\n",
      "| 19|  3228|\n",
      "+---+------+\n",
      "only showing top 20 rows\n",
      "\n"
     ]
    }
   ],
   "source": [
    "sql_context.sql(\"select * from employee_salary\").show()"
   ]
  },
  {
   "cell_type": "markdown",
   "metadata": {},
   "source": [
    "# JOIN Operation"
   ]
  },
  {
   "cell_type": "code",
   "execution_count": 4,
   "metadata": {},
   "outputs": [
    {
     "name": "stdout",
     "output_type": "stream",
     "text": [
      "+---+------+---+------+\n",
      "| id|groups|age|salary|\n",
      "+---+------+---+------+\n",
      "|  0|     A| 36|  2297|\n",
      "|  1|     A| 55|  1134|\n",
      "|  2|     A| 61|  4969|\n",
      "|  3|     O| 29|   902|\n",
      "|  4|     O| 34|  3574|\n",
      "|  5|     O| 42|  2761|\n",
      "|  6|    AB| 53|  1484|\n",
      "|  7|     B| 41|  3809|\n",
      "|  8|     A| 47|  2065|\n",
      "|  9|     A| 31|  1020|\n",
      "| 10|     A| 47|  1950|\n",
      "| 11|     O| 40|  4387|\n",
      "| 12|     O| 41|  1830|\n",
      "| 13|     O| 46|  2182|\n",
      "| 14|    AB| 51|  3460|\n",
      "| 15|     B| 57|   662|\n",
      "| 16|     A| 33|  1134|\n",
      "| 17|     A| 41|  1020|\n",
      "| 18|     A| 46|   779|\n",
      "| 19|     O| 32|  3228|\n",
      "+---+------+---+------+\n",
      "only showing top 20 rows\n",
      "\n"
     ]
    }
   ],
   "source": [
    "sql_context.sql(\"\"\"SELECT first.id, first.groups, first.age\n",
    ", second.salary FROM employee_details first JOIN employee_salary second\n",
    "ON (first.id = second.id)\"\"\").show()"
   ]
  },
  {
   "cell_type": "code",
   "execution_count": null,
   "metadata": {},
   "outputs": [],
   "source": []
  }
 ],
 "metadata": {
  "kernelspec": {
   "display_name": "Python 3",
   "language": "python",
   "name": "python3"
  },
  "language_info": {
   "codemirror_mode": {
    "name": "ipython",
    "version": 3
   },
   "file_extension": ".py",
   "mimetype": "text/x-python",
   "name": "python",
   "nbconvert_exporter": "python",
   "pygments_lexer": "ipython3",
   "version": "3.6.9"
  }
 },
 "nbformat": 4,
 "nbformat_minor": 2
}
