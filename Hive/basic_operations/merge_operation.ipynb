{
 "cells": [
  {
   "cell_type": "markdown",
   "metadata": {},
   "source": [
    "# Hive JOIN operation"
   ]
  },
  {
   "cell_type": "code",
   "execution_count": 1,
   "metadata": {},
   "outputs": [],
   "source": [
    "import os"
   ]
  },
  {
   "cell_type": "markdown",
   "metadata": {},
   "source": [
    "# First Table"
   ]
  },
  {
   "cell_type": "code",
   "execution_count": 2,
   "metadata": {},
   "outputs": [
    {
     "name": "stdout",
     "output_type": "stream",
     "text": [
      "1\tAkash\t65000\n",
      "2\tAnish\t72000\n",
      "3\tKarthik\t68000\n",
      "4\tSuresh\t70000\n",
      "5\tGanesh\t48000\n",
      "\n"
     ]
    }
   ],
   "source": [
    "print(os.popen(\"\"\"hive -S -e 'select * from original_table order by id;'\"\"\").read())"
   ]
  },
  {
   "cell_type": "markdown",
   "metadata": {},
   "source": [
    "# Second Table"
   ]
  },
  {
   "cell_type": "code",
   "execution_count": 3,
   "metadata": {},
   "outputs": [
    {
     "name": "stdout",
     "output_type": "stream",
     "text": [
      "1\tAkash\t65000\n",
      "2\tAnish\t72000\n",
      "3\tKarthik\t68000\n",
      "6\tVinay\t100000\n",
      "7\tRavi\t930000\n",
      "8\tKeshav\t46000\n",
      "\n"
     ]
    }
   ],
   "source": [
    "print(os.popen(\"\"\"hive -S -e 'select * from reference_table order by id;'\"\"\").read())"
   ]
  },
  {
   "cell_type": "markdown",
   "metadata": {},
   "source": [
    "# Merge Operation"
   ]
  },
  {
   "cell_type": "code",
   "execution_count": 4,
   "metadata": {},
   "outputs": [
    {
     "name": "stdout",
     "output_type": "stream",
     "text": [
      "\n"
     ]
    }
   ],
   "source": [
    "print(os.popen(\"\"\"hive -S -e '\n",
    "               set hive.support.concurrency = true;\n",
    "               set hive.enforce.bucketing = true;\n",
    "               set hive.exec.dynamic.partition.mode = nonstrict;\n",
    "               set hive.txn.manager = org.apache.hadoop.hive.ql.lockmgr.DbTxnManager;\n",
    "               set hive.compactor.initiator.on = true;\n",
    "               set hive.compactor.worker.threads = 3;\n",
    "               MERGE INTO original_table AS first USING reference_table AS second ON first.id = second.id\n",
    "               WHEN NOT MATCHED THEN INSERT VALUES(second.id, second.name, second.salary);'\n",
    "               \"\"\").read())"
   ]
  },
  {
   "cell_type": "markdown",
   "metadata": {},
   "source": [
    "# Table after merge operation"
   ]
  },
  {
   "cell_type": "code",
   "execution_count": 5,
   "metadata": {},
   "outputs": [
    {
     "name": "stdout",
     "output_type": "stream",
     "text": [
      "1\tAkash\t65000\n",
      "2\tAnish\t72000\n",
      "3\tKarthik\t68000\n",
      "4\tSuresh\t70000\n",
      "5\tGanesh\t48000\n",
      "6\tVinay\t100000\n",
      "7\tRavi\t930000\n",
      "8\tKeshav\t46000\n",
      "\n"
     ]
    }
   ],
   "source": [
    "print(os.popen('hive -S -e \"select * from original_table order by id;\"').read())"
   ]
  },
  {
   "cell_type": "code",
   "execution_count": null,
   "metadata": {},
   "outputs": [],
   "source": []
  }
 ],
 "metadata": {
  "kernelspec": {
   "display_name": "Python 3",
   "language": "python",
   "name": "python3"
  },
  "language_info": {
   "codemirror_mode": {
    "name": "ipython",
    "version": 3
   },
   "file_extension": ".py",
   "mimetype": "text/x-python",
   "name": "python",
   "nbconvert_exporter": "python",
   "pygments_lexer": "ipython3",
   "version": "3.6.9"
  }
 },
 "nbformat": 4,
 "nbformat_minor": 2
}
