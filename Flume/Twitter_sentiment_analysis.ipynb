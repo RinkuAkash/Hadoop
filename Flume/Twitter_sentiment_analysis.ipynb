{
 "cells": [
  {
   "cell_type": "code",
   "execution_count": 1,
   "metadata": {},
   "outputs": [],
   "source": [
    "# Importing required libraries\n",
    "import re # used filter text using regular expression \n",
    "import nltk # used to natural language processing\n",
    "import pickle # used load or open model"
   ]
  },
  {
   "cell_type": "code",
   "execution_count": 2,
   "metadata": {},
   "outputs": [],
   "source": [
    "# Building spark session with hive context\n",
    "sql_context = SparkSession.builder.appName(\"TwitterSentimentAnalysis\").enableHiveSupport().getOrCreate()"
   ]
  },
  {
   "cell_type": "markdown",
   "metadata": {},
   "source": [
    "# LOADING"
   ]
  },
  {
   "cell_type": "code",
   "execution_count": 3,
   "metadata": {
    "scrolled": false
   },
   "outputs": [
    {
     "name": "stdout",
     "output_type": "stream",
     "text": [
      "+-------------------+--------------------+--------------------+\n",
      "|                 id|                text|                name|\n",
      "+-------------------+--------------------+--------------------+\n",
      "|1256595174651617282|RT @QOS_Clara: Iv...|             [Clara]|\n",
      "|1256595174932824065|RT @bibonunes1: A...|        [Bibo Nunes]|\n",
      "|1256595174945406976|RT @femingoss: a....|          [Felósofa]|\n",
      "|1256595174941233153|RT @johncardillo:...|     [John Cardillo]|\n",
      "|1256595174941212675|RT @BrexitHome: E...|       [Brexit Home]|\n",
      "|1256595174945443841|RT @OnlyRayofHope...|[Only Ray of Hope...|\n",
      "|1256595175062806530|RT @Folaszn: Awww...|      [FolaKanBai📸]|\n",
      "|1256595175129985024|RT @ColourPopCo: ...|[ColourPop Cosmet...|\n",
      "|1256595175234662402|@longlanguor Nnti...|          [jumaijah]|\n",
      "|1256595174739894273|Los ASESORES no s...|                  []|\n",
      "|1256595175171698688|RT @yogirlexy: if...|       [lexy bustos]|\n",
      "|1256595175280914432|RT @vjimenezyuste...|[Víctor Jiménez Y...|\n",
      "|1256595175175892992|Remember, 2 month...|                  []|\n",
      "|1256595175427604480|Opinion | For soc...|                  []|\n",
      "|1256595175394115584|#Coronavirus:\n",
      "It ...|                  []|\n",
      "|1256595175549407234|RT @realDonaldTru...|   [Donald J. Trump]|\n",
      "|1256595175633088518|RT @WomensBudgetG...|[Women's Budget G...|\n",
      "|1256595175612338176|Estados Unidos se...|                  []|\n",
      "|1256595175708618752|RT @THM_Off: Tami...|            [T H M™]|\n",
      "|1256595175649894402|RT @GoI_MeitY: LI...|[Ministry of E & IT]|\n",
      "+-------------------+--------------------+--------------------+\n",
      "only showing top 20 rows\n",
      "\n"
     ]
    }
   ],
   "source": [
    "# loading extracted data from flume using hive query\n",
    "tweets = sql_context.sql(\"select id,text, entities.user_mentions.name from incremental_tweets\")\n",
    "tweets.show()"
   ]
  },
  {
   "cell_type": "markdown",
   "metadata": {},
   "source": [
    "Loading model for prediction"
   ]
  },
  {
   "cell_type": "code",
   "execution_count": 4,
   "metadata": {},
   "outputs": [
    {
     "name": "stderr",
     "output_type": "stream",
     "text": [
      "/home/ubuntu/.local/lib/python3.6/site-packages/sklearn/base.py:318: UserWarning: Trying to unpickle estimator CountVectorizer from version 0.21.3 when using version 0.22.2.post1. This might lead to breaking code or invalid results. Use at your own risk.\n",
      "  UserWarning)\n",
      "/home/ubuntu/.local/lib/python3.6/site-packages/sklearn/utils/deprecation.py:144: FutureWarning: The sklearn.linear_model.logistic module is  deprecated in version 0.22 and will be removed in version 0.24. The corresponding classes / functions should instead be imported from sklearn.linear_model. Anything that cannot be imported from sklearn.linear_model is now part of the private API.\n",
      "  warnings.warn(message, FutureWarning)\n",
      "/home/ubuntu/.local/lib/python3.6/site-packages/sklearn/base.py:318: UserWarning: Trying to unpickle estimator LogisticRegression from version 0.21.3 when using version 0.22.2.post1. This might lead to breaking code or invalid results. Use at your own risk.\n",
      "  UserWarning)\n"
     ]
    }
   ],
   "source": [
    "with open('model/logistic_model.pkl', 'rb') as file:\n",
    "    bow_obj = pickle.load(file) # bow_obj is to use transform function to convert data into vector\n",
    "    model = pickle.load(file) # model is used to predict sentiment"
   ]
  },
  {
   "cell_type": "markdown",
   "metadata": {},
   "source": [
    "# Transformation:"
   ]
  },
  {
   "cell_type": "markdown",
   "metadata": {},
   "source": [
    "# Prediction"
   ]
  },
  {
   "cell_type": "code",
   "execution_count": 5,
   "metadata": {},
   "outputs": [],
   "source": [
    "def prediction(text):\n",
    "    transformed_data = bow_obj.transform([text])\n",
    "    sentiment = model.predict(transformed_data)\n",
    "    if 0 < sentiment:\n",
    "        return 'POSITIVE'\n",
    "    else:\n",
    "        return 'NEGATIVE'"
   ]
  },
  {
   "cell_type": "markdown",
   "metadata": {},
   "source": [
    "# Lemmatization"
   ]
  },
  {
   "cell_type": "markdown",
   "metadata": {},
   "source": [
    "Lemmatization is the process of getting root word of a given word"
   ]
  },
  {
   "cell_type": "code",
   "execution_count": 6,
   "metadata": {},
   "outputs": [],
   "source": [
    "def lemmatization(data):\n",
    "    lemmatizer = nltk.stem.wordnet.WordNetLemmatizer()\n",
    "    sentence = []\n",
    "    for word in data:\n",
    "        sentence.append(lemmatizer.lemmatize(word))\n",
    "    return prediction(\" \".join(sentence))"
   ]
  },
  {
   "cell_type": "markdown",
   "metadata": {},
   "source": [
    "# Tokenizing"
   ]
  },
  {
   "cell_type": "markdown",
   "metadata": {},
   "source": [
    "Tokenizing is a technique to split text into pieceses and consider each piece as token"
   ]
  },
  {
   "cell_type": "code",
   "execution_count": 7,
   "metadata": {},
   "outputs": [],
   "source": [
    "def tokenizing(data):\n",
    "    stop_words = set(nltk.corpus.stopwords.words('english')) # stop words are expression words to verb or noun\n",
    "    tokenizer = nltk.tokenize.TweetTokenizer()\n",
    "    document = []\n",
    "    tokens = tokenizer.tokenize(data)\n",
    "    for token in tokens:\n",
    "        if token not in stop_words:\n",
    "            document.append( re.sub(\"@\\S+|https?:\\S+|http?:\\S|[^A-Za-z0-9]+\", \" \", token))\n",
    "    return lemmatization(document)"
   ]
  },
  {
   "cell_type": "markdown",
   "metadata": {},
   "source": [
    "Creating spark dataframe from rdd"
   ]
  },
  {
   "cell_type": "code",
   "execution_count": 8,
   "metadata": {},
   "outputs": [],
   "source": [
    "sentiment_rdd = tweets.rdd.map(lambda r: (tokenizing(r.text), r.name)).flatMapValues(lambda x:x)\n",
    "sentiment_df = sentiment_rdd.toDF(schema=['sentiment', 'user'])"
   ]
  },
  {
   "cell_type": "code",
   "execution_count": 9,
   "metadata": {},
   "outputs": [
    {
     "name": "stdout",
     "output_type": "stream",
     "text": [
      "+---------+--------------------+\n",
      "|sentiment|                user|\n",
      "+---------+--------------------+\n",
      "| POSITIVE|               Clara|\n",
      "| POSITIVE|          Bibo Nunes|\n",
      "| POSITIVE|            Felósofa|\n",
      "| NEGATIVE|       John Cardillo|\n",
      "| POSITIVE|         Brexit Home|\n",
      "| POSITIVE|    Only Ray of Hope|\n",
      "| POSITIVE|     Arvind Kejriwal|\n",
      "| POSITIVE|        FolaKanBai📸|\n",
      "| NEGATIVE| ColourPop Cosmetics|\n",
      "| POSITIVE|            jumaijah|\n",
      "| POSITIVE|         lexy bustos|\n",
      "| POSITIVE|Víctor Jiménez Yu...|\n",
      "| POSITIVE|     Donald J. Trump|\n",
      "| POSITIVE|Women's Budget Group|\n",
      "| NEGATIVE|              T H M™|\n",
      "| POSITIVE|  Ministry of E & IT|\n",
      "| POSITIVE|Sandpiper👑✝️✡️🐕...|\n",
      "| POSITIVE|Alejandro Gámez S...|\n",
      "| POSITIVE|           Amanda 😷|\n",
      "| POSITIVE|           Kang Away|\n",
      "+---------+--------------------+\n",
      "only showing top 20 rows\n",
      "\n"
     ]
    }
   ],
   "source": [
    "sentiment_df.show()"
   ]
  },
  {
   "cell_type": "markdown",
   "metadata": {},
   "source": [
    "Converting Spark dataframe to pandas dataframe for visualization"
   ]
  },
  {
   "cell_type": "code",
   "execution_count": 10,
   "metadata": {},
   "outputs": [],
   "source": [
    "pandas_df = sentiment_df.toPandas()"
   ]
  },
  {
   "cell_type": "markdown",
   "metadata": {},
   "source": [
    "# Data Visualization"
   ]
  },
  {
   "cell_type": "code",
   "execution_count": 12,
   "metadata": {},
   "outputs": [
    {
     "data": {
      "text/plain": [
       "<matplotlib.axes._subplots.AxesSubplot at 0x7f4c1c14e668>"
      ]
     },
     "execution_count": 12,
     "metadata": {},
     "output_type": "execute_result"
    },
    {
     "data": {
      "image/png": "[encoded data removed]",
      "text/plain": [
       "<Figure size 432x288 with 1 Axes>"
      ]
     },
     "metadata": {},
     "output_type": "display_data"
    }
   ],
   "source": [
    "pandas_df['sentiment'].value_counts().plot(kind='bar', title=\"Sentiment Analysis on COVID19\")"
   ]
  },
  {
   "cell_type": "code",
   "execution_count": null,
   "metadata": {},
   "outputs": [],
   "source": []
  }
 ],
 "metadata": {
  "kernelspec": {
   "display_name": "Python 3",
   "language": "python",
   "name": "python3"
  },
  "language_info": {
   "codemirror_mode": {
    "name": "ipython",
    "version": 3
   },
   "file_extension": ".py",
   "mimetype": "text/x-python",
   "name": "python",
   "nbconvert_exporter": "python",
   "pygments_lexer": "ipython3",
   "version": "3.6.9"
  }
 },
 "nbformat": 4,
 "nbformat_minor": 2
}
